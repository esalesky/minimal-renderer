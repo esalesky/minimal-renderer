{
 "cells": [
  {
   "cell_type": "code",
   "execution_count": 1,
   "metadata": {},
   "outputs": [],
   "source": [
    "# load libraries\n",
    "import numpy as np\n",
    "import matplotlib.pyplot as plt\n",
    "from PIL import Image, ImageOps\n",
    "\n",
    "from image_generator import TextImageGenerator"
   ]
  },
  {
   "cell_type": "markdown",
   "metadata": {},
   "source": [
    "# Loading fonts"
   ]
  },
  {
   "cell_type": "markdown",
   "metadata": {},
   "source": [
    "On mac, you may need to explicitly add the fonts/ directory to your fontconfig conf file to be able to use font files in unexpected locations.  \n",
    "Fontconfig should likely be installed already. If not, I recommend installing it with homebrew:\n",
    "`brew install fontconfig`\n",
    "\n",
    "It will place a default conf file in the following path:\n",
    "`/usr/local/etc/fonts/fonts.conf`\n",
    "\n",
    "What you'd need to do is add the fonts/ dir in the `<!-- Font directory list -->` section up top, like so:\n",
    "`    <dir>/Users/esalesky/minimal_renderer/fonts</dir>`\n",
    "\n",
    "You will know you're successful if there is no fontconfig error message when loading the next cell, and if rendering shows the expected font"
   ]
  },
  {
   "cell_type": "markdown",
   "metadata": {},
   "source": [
    "# Load renderer"
   ]
  },
  {
   "cell_type": "code",
   "execution_count": 2,
   "metadata": {},
   "outputs": [],
   "source": [
    "# -- default image generator -- \n",
    "pixels_per_patch = 24 # this controls the number of pixels tall your line will be. you may be able to get away with 16 depending on the characters/diacritics. it also controls patch width, but, that should be irrelevant here\n",
    "max_seq_length = 10   # max seq length: this is the number of pixels_per_patch patches that fit in a sentence image. It will truncate longer sentences. I'd train with a typical MT length, but, 10 is nice for visualization below.\n",
    "font_size = 10\n",
    "\n",
    "# whether or not you want strided overlapping patches. settings this equal to patch width renders text continuously\n",
    "stride = pixels_per_patch\n",
    "\n",
    "# fonts: the specified font file will be used, with the fonts in ./fonts/fallback_dir used as backoffs should the specified font not cover all unicode chars in the input string\n",
    "# dpi: note that you would have to increase the pixel_per_patch size to increase dpi, because it will need more pixel space to increase resolution. I typically do not change this.\n",
    "\n",
    "image_generator = TextImageGenerator(\n",
    "    font_size=font_size,\n",
    "    pixels_per_patch=pixels_per_patch,\n",
    "    stride=stride,\n",
    "    dpi=120,\n",
    "    max_seq_length=max_seq_length,\n",
    "    font_file='./fonts/GoNotoCurrent.ttf',\n",
    "    rgb=False\n",
    ")"
   ]
  },
  {
   "cell_type": "markdown",
   "metadata": {},
   "source": [
    "# Examples"
   ]
  },
  {
   "cell_type": "code",
   "execution_count": 3,
   "metadata": {},
   "outputs": [],
   "source": [
    "# -- example sentences -- #\n",
    "# sentence = \"My cat 🐈 loves pancakes 🥞 and my duck 🦆 loves grapes 🍇.\"\n",
    "# sentence = 'ख़ ज़ीरा आस्ट्रेलिया के पाल हेनली के  साथ जोड़ी उल्लू शुरू test'\n",
    "# sentence = 'أَفَاسْتَسْقَيْنَاكُمُوهَا testy test أَفَاسْتَسْقَيْ'\n",
    "# sentence = \"𝔱𝔥𝔦𝔰 𝔦𝔰 𝔞 𝔰𝔢𝔫𝔱𝔢𝔫𝔠𝔢\"\n",
    "# sentence = \"𝒃𝒊𝒂 𝑜𝓉𝒽𝑒𝓇 𝐒𝐇𝐀 𝒄𝒓𝒆𝒅𝒊 𝐓𝐎𝐎 🚴🏽🏽 𝗟𝗲𝗮𝗱𝘀 𝐒𝐀𝐓𝐔𝐑𝐃𝐀𝐘𝐒 𝓢𝓸𝓾𝓵 𝐚𝐠𝐫𝐞𝐞\"\n",
    "# sentence = \"🧛🏼\\u200d♂️\"\n",
    "# sentence = \"▁test ▁t est\"  # note that I have it set up to strip sentencepiece formatting. to change this, set debpe = False in image_generator.py L391\n",
    "sentence = '𒁹𒄑𒈿𒂵𒊑𒍝𒋼'"
   ]
  },
  {
   "cell_type": "code",
   "execution_count": 4,
   "metadata": {},
   "outputs": [],
   "source": [
    "sent_image = image_generator.get_image(sentence)"
   ]
  },
  {
   "cell_type": "code",
   "execution_count": 5,
   "metadata": {},
   "outputs": [
    {
     "data": {
      "image/jpeg": "[encoded data removed]",
      "image/png": "[encoded data removed]",
      "text/plain": [
       "<PIL.Image.Image image mode=L size=144x24>"
      ]
     },
     "metadata": {},
     "output_type": "display_data"
    }
   ],
   "source": [
    "image = Image.fromarray(sent_image)\n",
    "display(image)\n",
    "# image.save('/Users/esalesky/Downloads/example_image.png')"
   ]
  },
  {
   "cell_type": "code",
   "execution_count": 6,
   "metadata": {},
   "outputs": [
    {
     "data": {
      "text/plain": [
       "(24, 144)"
      ]
     },
     "execution_count": 6,
     "metadata": {},
     "output_type": "execute_result"
    }
   ],
   "source": [
    "sent_image.shape"
   ]
  },
  {
   "cell_type": "markdown",
   "metadata": {},
   "source": [
    "# Visualizing tokens"
   ]
  },
  {
   "cell_type": "code",
   "execution_count": 7,
   "metadata": {},
   "outputs": [],
   "source": [
    "from typing import Union,List\n",
    "\n",
    "def show_images(images: List[np.ndarray]) -> None:\n",
    "    n: int = len(images)\n",
    "    f = plt.figure(figsize=(20, 5))\n",
    "    for i in range(n):\n",
    "        # token figure\n",
    "        ax = f.add_subplot(1, n, i + 1)\n",
    "        plt.imshow(images[i],cmap='gray', vmin=0, vmax=255)\n",
    "        ax.set_xticks([])\n",
    "        ax.set_yticks([])\n",
    "\n",
    "    plt.show(block=True)"
   ]
  },
  {
   "cell_type": "code",
   "execution_count": 8,
   "metadata": {},
   "outputs": [
    {
     "data": {
      "image/png": "[encoded data removed]",
      "text/plain": [
       "<Figure size 1440x360 with 6 Axes>"
      ]
     },
     "metadata": {},
     "output_type": "display_data"
    }
   ],
   "source": [
    "# -- note: get_images returns sliced images, get_image returns single sentence-level image --\n",
    "x, image_tokens = image_generator.get_images(sentence)\n",
    "show_images(image_tokens)"
   ]
  }
 ],
 "metadata": {
  "kernelspec": {
   "display_name": "min",
   "language": "python",
   "name": "min"
  },
  "language_info": {
   "codemirror_mode": {
    "name": "ipython",
    "version": 3
   },
   "file_extension": ".py",
   "mimetype": "text/x-python",
   "name": "python",
   "nbconvert_exporter": "python",
   "pygments_lexer": "ipython3",
   "version": "3.8.17"
  }
 },
 "nbformat": 4,
 "nbformat_minor": 2
}
